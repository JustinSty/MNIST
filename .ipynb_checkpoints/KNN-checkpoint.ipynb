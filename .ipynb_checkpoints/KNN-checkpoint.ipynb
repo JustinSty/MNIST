{
 "cells": [
  {
   "cell_type": "code",
   "execution_count": 1,
   "metadata": {},
   "outputs": [
    {
     "name": "stdout",
     "output_type": "stream",
     "text": [
      "['train_labels', 'train_images', '__version__', '__header__', '__globals__']\n",
      "28 28 60000\n",
      "784\n",
      "(60000, 784)\n",
      "[[0]\n",
      " [0]\n",
      " [0]\n",
      " ..., \n",
      " [9]\n",
      " [9]\n",
      " [9]]\n",
      "['__version__', '__header__', 'test_images', '__globals__']\n",
      "(10000, 784)\n"
     ]
    },
    {
     "name": "stderr",
     "output_type": "stream",
     "text": [
      "/Users/Justinsty/anaconda/lib/python2.7/site-packages/sklearn/utils/validation.py:420: DataConversionWarning: Data with input dtype uint8 was converted to float64 by the scale function.\n",
      "  warnings.warn(msg, DataConversionWarning)\n"
     ]
    },
    {
     "name": "stdout",
     "output_type": "stream",
     "text": [
      "(5000, 784)\n"
     ]
    }
   ],
   "source": [
    "import scipy.io\n",
    "import numpy as np\n",
    "import math\n",
    "from sklearn import preprocessing\n",
    "import random\n",
    "from sklearn.utils import shuffle\n",
    "import matplotlib.pyplot as plt\n",
    "%matplotlib inline \n",
    "\n",
    "def plot_num(center):\n",
    "    center = np.reshape(center, (28, 28))\n",
    "    plt.figure()\n",
    "    plt.imshow(center)\n",
    "    plt.colorbar()\n",
    "    \n",
    "def distance(instance1, instance2):\n",
    "    return np.linalg.norm(instance1 - instance2)\n",
    "\n",
    "def get_neighbors(instance,train_img, train_labels, K):\n",
    "    distances = []\n",
    "    for i in range(len(train_img)):\n",
    "        dist = distance(instance, train_img[i])\n",
    "        distances.append((train_img[i], dist, train_labels[i]))\n",
    "    distances.sort(key=lambda x: x[1])\n",
    "    return distances[:K]\n",
    "\n",
    "def vote(neighbors,K):\n",
    "    #img, dist,label\n",
    "    counts = np.array([0]*10)\n",
    "    best_label, best_dist, best_img = 0, 9999, neighbors[0][0]\n",
    "    for i in range(K):\n",
    "        img, dist,label = neighbors[i]\n",
    "        counts+= label\n",
    "        if best_dist > dist:\n",
    "            best_label, best_dist,best_img = label, dist,img\n",
    "    best_count = max(counts)\n",
    "#     print \"counts\", counts\n",
    "#     print \"best_label, best_dist\",best_label, best_dist\n",
    "#     plot_num(best_img)\n",
    "    best_labels = np.where(counts == best_count)[0]\n",
    "#     print \"best_labels\", best_labels\n",
    "    if len(best_labels) == 1:\n",
    "        result = np.array([0]*10)\n",
    "        result[best_labels[0]]=1\n",
    "        return result\n",
    "    else:\n",
    "        return best_label\n",
    "    \n",
    "def weighted_vote(neighbors, K):\n",
    "    counts = np.array([0]*10)\n",
    "    for i in range(K):\n",
    "        img, dist,label = neighbors[i]\n",
    "        counts = counts + label*1.0/(i+1)\n",
    "    result = np.array([0]*10)\n",
    "    result[np.argmax(counts)] = 1\n",
    "    return result\n",
    "\n",
    "data = scipy.io.loadmat('dataset/train.mat')\n",
    "print data.keys()\n",
    "train_labels = data['train_labels']\n",
    "train_img = data['train_images']\n",
    "x = len(train_img)\n",
    "y = len(train_img[0])\n",
    "z = len(train_img[0][0])\n",
    "print x,y,z\n",
    "train_img = np.reshape(train_img, (x * y, z))\n",
    "train_img = np.swapaxes(train_img ,0,1)\n",
    "\n",
    "print len(train_img[0])\n",
    "print train_img.shape\n",
    "print train_labels\n",
    "lb = preprocessing.LabelBinarizer()\n",
    "lb.fit(range(10))\n",
    "train_labels = lb.transform(train_labels)\n",
    "test = scipy.io.loadmat('dataset/test.mat')\n",
    "print test.keys()\n",
    "test_img = test['test_images']\n",
    "x = len(test_img)\n",
    "y = len(test_img[0])\n",
    "z = len(test_img[0][0])\n",
    "test_img = np.reshape(test_img, (x * y, z))\n",
    "test_img = np.swapaxes(test_img ,0,1)\n",
    "\n",
    "print test_img.shape\n",
    "\n",
    "\n",
    "train_img ,train_labels = shuffle(train_img, train_labels, random_state=0)\n",
    "train_img = preprocessing.scale(train_img)\n",
    "X = train_img[:55000]\n",
    "y = train_labels[:55000]\n",
    "Xv = train_img[55000:]\n",
    "print Xv.shape\n",
    "yv = train_labels[55000:]"
   ]
  },
  {
   "cell_type": "code",
   "execution_count": 2,
   "metadata": {},
   "outputs": [
    {
     "name": "stdout",
     "output_type": "stream",
     "text": [
      "99 [0 0 0 0 0 0 0 0 0 1] [0 0 0 0 0 0 0 0 0 1] True 0.96\n",
      "199 [0 0 1 0 0 0 0 0 0 0] [0 0 1 0 0 0 0 0 0 0] True 0.95\n",
      "299 [0 0 0 1 0 0 0 0 0 0] [0 0 0 1 0 0 0 0 0 0] True 0.953333333333\n",
      "399 [0 0 0 0 0 0 1 0 0 0] [0 0 0 0 0 0 1 0 0 0] True 0.955\n",
      "499 [0 0 0 0 0 0 0 0 1 0] [0 0 0 0 0 0 0 0 1 0] True 0.952\n",
      "599 [0 0 0 1 0 0 0 0 0 0] [0 0 0 1 0 0 0 0 0 0] True 0.948333333333\n",
      "699 [0 0 0 0 0 1 0 0 0 0] [0 0 0 0 0 1 0 0 0 0] True 0.947142857143\n",
      "799 [0 1 0 0 0 0 0 0 0 0] [0 1 0 0 0 0 0 0 0 0] True 0.94625\n",
      "899 [0 0 1 0 0 0 0 0 0 0] [0 0 1 0 0 0 0 0 0 0] True 0.948888888889\n",
      "999 [0 0 0 0 0 0 0 0 0 1] [0 0 0 0 0 0 0 0 0 1] True 0.952\n",
      "1099 [0 1 0 0 0 0 0 0 0 0] [0 1 0 0 0 0 0 0 0 0] True 0.950909090909\n",
      "1199 [0 0 0 0 0 0 0 0 0 1] [0 0 0 0 0 0 0 0 0 1] True 0.9475\n",
      "1299 [0 0 0 0 0 0 1 0 0 0] [0 0 0 0 0 0 1 0 0 0] True 0.95\n",
      "1399 [0 0 0 0 0 0 0 1 0 0] [0 0 0 0 0 0 0 1 0 0] True 0.949285714286\n",
      "1499 [0 0 0 0 0 0 0 0 1 0] [0 0 0 0 0 0 0 0 1 0] True 0.949333333333\n",
      "1599 [0 0 0 0 0 1 0 0 0 0] [0 0 0 0 0 1 0 0 0 0] True 0.949375\n",
      "1699 [0 0 0 1 0 0 0 0 0 0] [0 0 0 1 0 0 0 0 0 0] True 0.948823529412\n",
      "1799 [0 0 0 0 1 0 0 0 0 0] [0 0 0 0 0 0 0 0 0 1] False 0.948888888889\n",
      "1899 [0 0 0 0 0 0 0 0 1 0] [0 0 0 0 0 0 0 0 1 0] True 0.949473684211\n",
      "1999 [1 0 0 0 0 0 0 0 0 0] [1 0 0 0 0 0 0 0 0 0] True 0.949\n",
      "2099 [0 0 0 0 0 0 0 1 0 0] [0 0 0 0 0 0 0 1 0 0] True 0.948571428571\n",
      "2199 [0 0 0 1 0 0 0 0 0 0] [0 0 0 1 0 0 0 0 0 0] True 0.947727272727\n",
      "2299 [0 0 0 0 1 0 0 0 0 0] [0 0 0 0 1 0 0 0 0 0] True 0.948260869565\n",
      "2399 [0 0 0 0 0 0 0 1 0 0] [0 0 0 0 0 0 0 1 0 0] True 0.947916666667\n",
      "2499 [0 0 0 0 0 1 0 0 0 0] [0 0 0 0 0 1 0 0 0 0] True 0.948\n",
      "2599 [0 0 0 1 0 0 0 0 0 0] [0 0 0 1 0 0 0 0 0 0] True 0.948461538462\n",
      "2699 [1 0 0 0 0 0 0 0 0 0] [1 0 0 0 0 0 0 0 0 0] True 0.948888888889\n",
      "2799 [0 0 0 1 0 0 0 0 0 0] [0 0 0 1 0 0 0 0 0 0] True 0.949285714286\n",
      "2899 [0 0 0 1 0 0 0 0 0 0] [0 0 0 0 0 1 0 0 0 0] False 0.949655172414\n",
      "2999 [0 0 0 0 0 0 0 0 0 1] [0 0 0 0 0 0 0 0 0 1] True 0.948333333333\n",
      "3099 [0 0 1 0 0 0 0 0 0 0] [0 0 1 0 0 0 0 0 0 0] True 0.948387096774\n",
      "3199 [0 0 0 0 0 0 1 0 0 0] [0 0 0 0 0 0 1 0 0 0] True 0.9490625\n",
      "3299 [0 0 1 0 0 0 0 0 0 0] [0 0 1 0 0 0 0 0 0 0] True 0.947878787879\n",
      "3399 [1 0 0 0 0 0 0 0 0 0] [1 0 0 0 0 0 0 0 0 0] True 0.948823529412\n",
      "3499 [0 0 0 0 0 0 0 0 1 0] [0 0 0 0 0 0 0 0 1 0] True 0.948285714286\n",
      "3599 [0 0 0 0 0 1 0 0 0 0] [0 0 0 0 0 1 0 0 0 0] True 0.949166666667\n",
      "3699 [0 0 0 0 0 1 0 0 0 0] [0 0 0 0 0 1 0 0 0 0] True 0.949189189189\n",
      "3799 [0 0 0 0 0 0 1 0 0 0] [0 0 0 0 0 0 1 0 0 0] True 0.948684210526\n",
      "3899 [0 0 0 0 0 1 0 0 0 0] [0 0 0 0 0 1 0 0 0 0] True 0.949230769231\n",
      "3999 [0 0 0 0 0 0 0 1 0 0] [0 0 0 0 0 0 0 1 0 0] True 0.94975\n",
      "4099 [0 0 0 0 0 0 0 0 0 1] [0 0 0 0 0 0 0 0 0 1] True 0.949756097561\n",
      "4199 [0 0 1 0 0 0 0 0 0 0] [0 0 1 0 0 0 0 0 0 0] True 0.95\n",
      "4299 [0 0 0 1 0 0 0 0 0 0] [0 0 0 1 0 0 0 0 0 0] True 0.949302325581\n",
      "4399 [0 0 1 0 0 0 0 0 0 0] [0 0 1 0 0 0 0 0 0 0] True 0.95\n",
      "4499 [0 0 0 0 0 0 0 0 1 0] [0 0 0 0 0 0 0 0 1 0] True 0.950888888889\n",
      "4599 [0 0 0 0 0 0 1 0 0 0] [0 0 0 0 0 0 1 0 0 0] True 0.95\n",
      "4699 [0 0 0 1 0 0 0 0 0 0] [0 0 0 1 0 0 0 0 0 0] True 0.950425531915\n",
      "4799 [0 0 0 0 0 0 0 0 0 1] [0 0 0 0 0 0 0 0 0 1] True 0.950625\n",
      "4899 [0 0 1 0 0 0 0 0 0 0] [0 0 1 0 0 0 0 0 0 0] True 0.950612244898\n",
      "4999 [1 0 0 0 0 0 0 0 0 0] [1 0 0 0 0 0 0 0 0 0] True 0.9502\n"
     ]
    }
   ],
   "source": [
    "# print distance(X[0],X[1])\n",
    "K = 10\n",
    "count = 0\n",
    "interval = 100\n",
    "vali_acc = []\n",
    "for i in range(5000):\n",
    "    neighbors = get_neighbors(Xv[i], train_img, train_labels, K)\n",
    "    #img, dist,label\n",
    "    result = vote(neighbors,K)\n",
    "    result = weighted_vote(neighbors,K)\n",
    "    if list(result) == list(yv[i]):\n",
    "        count += 1\n",
    "    acc = 1.0*count/(i+1)\n",
    "    if (i+1)%interval == 0:\n",
    "        vali_acc.append(acc)\n",
    "        print i,result, yv[i], list(result) == list(yv[i]), acc"
   ]
  },
  {
   "cell_type": "code",
   "execution_count": 3,
   "metadata": {},
   "outputs": [
    {
     "data": {
      "image/png": "[encoded data removed]",
      "text/plain": [
       "<matplotlib.figure.Figure at 0x1060fb590>"
      ]
     },
     "metadata": {},
     "output_type": "display_data"
    }
   ],
   "source": [
    "plt.plot([i * interval for i in range(len(vali_acc))], vali_acc)\n",
    "plt.legend(['validation accuracy'], loc = 'upper right')\n",
    "plt.show()"
   ]
  },
  {
   "cell_type": "code",
   "execution_count": null,
   "metadata": {
    "collapsed": true
   },
   "outputs": [],
   "source": []
  }
 ],
 "metadata": {
  "kernelspec": {
   "display_name": "Python 2",
   "language": "python",
   "name": "python2"
  },
  "language_info": {
   "codemirror_mode": {
    "name": "ipython",
    "version": 2
   },
   "file_extension": ".py",
   "mimetype": "text/x-python",
   "name": "python",
   "nbconvert_exporter": "python",
   "pygments_lexer": "ipython2",
   "version": "2.7.13"
  }
 },
 "nbformat": 4,
 "nbformat_minor": 2
}
