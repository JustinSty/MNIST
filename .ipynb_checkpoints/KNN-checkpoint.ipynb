{
 "cells": [
  {
   "cell_type": "code",
   "execution_count": null,
   "metadata": {
    "collapsed": false
   },
   "outputs": [],
   "source": [
    "import scipy.io\n",
    "import numpy as np\n",
    "import math\n",
    "from sklearn import preprocessing\n",
    "import random\n",
    "from sklearn.utils import shuffle\n",
    "import matplotlib.pyplot as plt\n",
    "%matplotlib inline \n",
    "\n",
    "def plot_num(center):\n",
    "    center = np.reshape(center, (28, 28))\n",
    "    plt.figure()\n",
    "    plt.imshow(center)\n",
    "    plt.colorbar()\n",
    "    \n",
    "def distance(instance1, instance2):\n",
    "    return np.linalg.norm(instance1 - instance2)\n",
    "\n",
    "def get_neighbors(instance,train_img, train_labels, K):\n",
    "    distances = []\n",
    "    for i in range(len(train_img)):\n",
    "        dist = distance(instance, train_img[i])\n",
    "        distances.append((train_img[i], dist, train_labels[i]))\n",
    "    distances.sort(key=lambda x: x[1])\n",
    "    return distances[:K]\n",
    "\n",
    "def vote(neighbors,K):\n",
    "    #img, dist,label\n",
    "    counts = np.array([0]*10)\n",
    "    best_label, best_dist, best_img = 0, 9999, neighbors[0][0]\n",
    "    for i in range(K):\n",
    "        img, dist,label = neighbors[i]\n",
    "        counts+= label\n",
    "        if best_dist > dist:\n",
    "            best_label, best_dist,best_img = label, dist,img\n",
    "    best_count = max(counts)\n",
    "#     print \"counts\", counts\n",
    "#     print \"best_label, best_dist\",best_label, best_dist\n",
    "    plot_num(best_img)\n",
    "    best_labels = np.where(counts == best_count)[0]\n",
    "#     print \"best_labels\", best_labels\n",
    "    if len(best_labels) == 1:\n",
    "        result = np.array([0]*10)\n",
    "        result[best_labels[0]]=1\n",
    "        return result\n",
    "    else:\n",
    "        return best_label\n",
    "\n",
    "data = scipy.io.loadmat('dataset/train.mat')\n",
    "print data.keys()\n",
    "train_labels = data['train_labels']\n",
    "train_img = data['train_images']\n",
    "x = len(train_img)\n",
    "y = len(train_img[0])\n",
    "z = len(train_img[0][0])\n",
    "print x,y,z\n",
    "train_img = np.reshape(train_img, (x * y, z))\n",
    "train_img = np.swapaxes(train_img ,0,1)\n",
    "\n",
    "print len(train_img[0])\n",
    "print train_img.shape\n",
    "print train_labels\n",
    "lb = preprocessing.LabelBinarizer()\n",
    "lb.fit(range(10))\n",
    "train_labels = lb.transform(train_labels)\n",
    "test = scipy.io.loadmat('dataset/test.mat')\n",
    "print test.keys()\n",
    "test_img = test['test_images']\n",
    "x = len(test_img)\n",
    "y = len(test_img[0])\n",
    "z = len(test_img[0][0])\n",
    "test_img = np.reshape(test_img, (x * y, z))\n",
    "test_img = np.swapaxes(test_img ,0,1)\n",
    "\n",
    "print test_img.shape\n",
    "\n",
    "train_img ,train_labels = shuffle(train_img, train_labels, random_state=0)\n",
    "X = train_img[:55000]\n",
    "y = train_labels[:55000]\n",
    "Xv = train_img[55000:]\n",
    "print Xv.shape\n",
    "yv = train_labels[55000:]"
   ]
  },
  {
   "cell_type": "code",
   "execution_count": null,
   "metadata": {
    "collapsed": false
   },
   "outputs": [],
   "source": [
    "# print distance(X[0],X[1])\n",
    "K = 10\n",
    "count = 0\n",
    "interval = 100\n",
    "vali_acc = []\n",
    "for i in range(5000):\n",
    "    neighbors = get_neighbors(Xv[i], train_img, train_labels, K)\n",
    "    #img, dist,label\n",
    "    result = vote(neighbors,K)\n",
    "    if list(result) == list(yv[i]):\n",
    "        count += 1\n",
    "    acc = 1.0*count/(i+1)\n",
    "    if (i+1)%interval == 0:\n",
    "        vali_acc.append(acc)\n",
    "        print i,result, yv[i], list(result) == list(yv[i]), acc"
   ]
  },
  {
   "cell_type": "code",
   "execution_count": null,
   "metadata": {
    "collapsed": false
   },
   "outputs": [],
   "source": [
    "plt.plot([i * interval for i in range(len(vali_acc))], vali_acc)\n",
    "plt.legend(['validation accuracy'], loc = 'upper right')\n",
    "plt.show()"
   ]
  },
  {
   "cell_type": "code",
   "execution_count": null,
   "metadata": {
    "collapsed": true
   },
   "outputs": [],
   "source": []
  }
 ],
 "metadata": {
  "kernelspec": {
   "display_name": "Python 2",
   "language": "python",
   "name": "python2"
  },
  "language_info": {
   "codemirror_mode": {
    "name": "ipython",
    "version": 2
   },
   "file_extension": ".py",
   "mimetype": "text/x-python",
   "name": "python",
   "nbconvert_exporter": "python",
   "pygments_lexer": "ipython2",
   "version": "2.7.10"
  }
 },
 "nbformat": 4,
 "nbformat_minor": 2
}
